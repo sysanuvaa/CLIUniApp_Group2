{
  "nbformat": 4,
  "nbformat_minor": 0,
  "metadata": {
    "colab": {
      "provenance": []
    },
    "kernelspec": {
      "name": "python3",
      "display_name": "Python 3"
    },
    "language_info": {
      "name": "python"
    }
  },
  "cells": [
    {
      "cell_type": "code",
      "execution_count": 4,
      "metadata": {
        "colab": {
          "base_uri": "https://localhost:8080/"
        },
        "id": "9CiHexcT-m-G",
        "outputId": "af05a9e4-2523-4999-effc-883f9c7f9b38"
      },
      "outputs": [
        {
          "output_type": "stream",
          "name": "stdout",
          "text": [
            "Enrolled in subject 845 with mark 32 (Z)\n",
            "Enrolled in subject 108 with mark 74 (C)\n",
            "ID: 845, Mark: 32, Grade: Z\n",
            "ID: 108, Mark: 74, Grade: C\n",
            "Overall: Pass\n"
          ]
        }
      ],
      "source": [
        "import random\n",
        "\n",
        "class Subject:\n",
        "    def __init__(self):\n",
        "        self.id = str(random.randint(100, 999))\n",
        "        self.mark = random.randint(25, 100)\n",
        "        self.grade = self.calculate_grade()\n",
        "\n",
        "    def calculate_grade(self):\n",
        "        if self.mark >= 85:\n",
        "            return \"HD\"\n",
        "        elif self.mark >= 75:\n",
        "            return \"D\"\n",
        "        elif self.mark >= 65:\n",
        "            return \"C\"\n",
        "        elif self.mark >= 50:\n",
        "            return \"P\"\n",
        "        else:\n",
        "            return \"Z\"\n",
        "\n",
        "class Student:\n",
        "    def __init__(self, name):\n",
        "        self.name = name\n",
        "        self.subjects = []\n",
        "\n",
        "    def enrol_subject(self):\n",
        "        if len(self.subjects) >= 4:\n",
        "            print(\"Cannot enrol more than 4 subjects.\")\n",
        "            return False\n",
        "        subject = Subject()\n",
        "        self.subjects.append(subject)\n",
        "        print(f\"Enrolled in subject {subject.id} with mark {subject.mark} ({subject.grade})\")\n",
        "        return True\n",
        "\n",
        "    def remove_subject(self, subject_id):\n",
        "        self.subjects = [s for s in self.subjects if s.id != subject_id]\n",
        "        print(f\"Removed subject {subject_id}\")\n",
        "\n",
        "    def show_enrolments(self):\n",
        "        for s in self.subjects:\n",
        "            print(f\"ID: {s.id}, Mark: {s.mark}, Grade: {s.grade}\")\n",
        "\n",
        "    def average_pass_fail(self):\n",
        "        if not self.subjects:\n",
        "            return \"No subjects enrolled\"\n",
        "        avg = sum(s.mark for s in self.subjects)/len(self.subjects)\n",
        "        return \"Pass\" if avg >= 50 else \"Fail\"\n",
        "\n",
        "# Example demo\n",
        "student = Student(\"Anuva\")\n",
        "student.enrol_subject()\n",
        "student.enrol_subject()\n",
        "student.show_enrolments()\n",
        "print(\"Overall:\", student.average_pass_fail())\n"
      ]
    }
  ]
}